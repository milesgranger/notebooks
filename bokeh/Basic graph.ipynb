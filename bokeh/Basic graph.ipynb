{
 "cells": [
  {
   "cell_type": "markdown",
   "metadata": {},
   "source": [
    "## Very basic plot"
   ]
  },
  {
   "cell_type": "code",
   "execution_count": 6,
   "metadata": {
    "collapsed": true
   },
   "outputs": [],
   "source": [
    "# Basic bokeh line graph\n",
    "\n",
    "from bokeh.plotting import figure\n",
    "from bokeh.io import output_file, show\n",
    "\n",
    "# fake data\n",
    "x = [1,2,3,4,5]\n",
    "y = [6,7,8,9,10]\n",
    "\n",
    "# prepare the output file.\n",
    "output_file('line.html')\n",
    "\n",
    "# Create figure object\n",
    "f = figure()\n",
    "\n",
    "# Create the plot\n",
    "f.line(x, y)\n",
    "\n",
    "show(f)"
   ]
  },
  {
   "cell_type": "markdown",
   "metadata": {},
   "source": [
    "# Basic bokeh line graph, from csv"
   ]
  },
  {
   "cell_type": "code",
   "execution_count": 11,
   "metadata": {
    "collapsed": false
   },
   "outputs": [
    {
     "name": "stdout",
     "output_type": "stream",
     "text": [
      "   Year  Agriculture  Architecture  Art and Performance    Biology   Business  \\\n",
      "0  1970     4.229798     11.921005                 59.7  29.088363   9.064439   \n",
      "1  1971     5.452797     12.003106                 59.9  29.394403   9.503187   \n",
      "2  1972     7.420710     13.214594                 60.4  29.810221  10.558962   \n",
      "3  1973     9.653602     14.791613                 60.2  31.147915  12.804602   \n",
      "4  1974    14.074623     17.444688                 61.9  32.996183  16.204850   \n",
      "\n",
      "   Communications and Journalism  Computer Science  Education  Engineering  \\\n",
      "0                           35.3              13.6  74.535328          0.8   \n",
      "1                           35.5              13.6  74.149204          1.0   \n",
      "2                           36.6              14.9  73.554520          1.2   \n",
      "3                           38.4              16.4  73.501814          1.6   \n",
      "4                           40.5              18.9  73.336811          2.2   \n",
      "\n",
      "     English  Foreign Languages  Health Professions  Math and Statistics  \\\n",
      "0  65.570923               73.8                77.1                 38.0   \n",
      "1  64.556485               73.9                75.5                 39.0   \n",
      "2  63.664263               74.6                76.9                 40.2   \n",
      "3  62.941502               74.9                77.4                 40.9   \n",
      "4  62.413412               75.3                77.9                 41.8   \n",
      "\n",
      "   Physical Sciences  Psychology  Public Administration  \\\n",
      "0               13.8        44.4                   68.4   \n",
      "1               14.9        46.2                   65.5   \n",
      "2               14.8        47.6                   62.6   \n",
      "3               16.5        50.4                   64.3   \n",
      "4               18.2        52.6                   66.1   \n",
      "\n",
      "   Social Sciences and History  \n",
      "0                         36.8  \n",
      "1                         36.2  \n",
      "2                         36.1  \n",
      "3                         36.4  \n",
      "4                         37.3  \n"
     ]
    }
   ],
   "source": [
    "\n",
    "from bokeh.plotting import figure\n",
    "from bokeh.io import output_file, show\n",
    "\n",
    "df = pd.read_csv('http://pythonhow.com/data/bachelors.csv')\n",
    "print df.head()\n",
    "\n",
    "output_file('line.html')\n",
    "\n",
    "fig = figure()\n",
    "\n",
    "fig.line(df.Year, df.Engineering)\n",
    "\n",
    "show(fig)\n",
    "\n"
   ]
  },
  {
   "cell_type": "code",
   "execution_count": null,
   "metadata": {
    "collapsed": true
   },
   "outputs": [],
   "source": []
  }
 ],
 "metadata": {
  "kernelspec": {
   "display_name": "Anaconda Python 2.7",
   "language": "python",
   "name": "python2"
  },
  "language_info": {
   "codemirror_mode": {
    "name": "ipython",
    "version": 2
   },
   "file_extension": ".py",
   "mimetype": "text/x-python",
   "name": "python",
   "nbconvert_exporter": "python",
   "pygments_lexer": "ipython2",
   "version": "2.7.11"
  }
 },
 "nbformat": 4,
 "nbformat_minor": 0
}
