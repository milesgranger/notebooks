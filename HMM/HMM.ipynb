{
 "cells": [
  {
   "cell_type": "code",
   "execution_count": 16,
   "metadata": {
    "collapsed": false
   },
   "outputs": [],
   "source": [
    "# Hidden Markov Model\n",
    "from __future__ import print_function\n",
    "import theano\n",
    "import csv\n",
    "import requests\n",
    "import numpy as np"
   ]
  },
  {
   "cell_type": "code",
   "execution_count": 17,
   "metadata": {
    "collapsed": false
   },
   "outputs": [
    {
     "name": "stdout",
     "output_type": "stream",
     "text": [
      "Transitions: 130\n",
      "\n"
     ]
    }
   ],
   "source": [
    "transitions = dict()  # Data, start page and result\n",
    "row_sums = dict()     # Start state, totalizer for how many start states occur at what distribution.\n",
    "\n",
    "\n",
    "# collect counts\n",
    "# This contains the start and end pages, the 'state', and the next outcome of the page\n",
    "# view\n",
    "response = requests.get(\n",
    "    'https://raw.githubusercontent.com/lazyprogrammer/machine_learning_examples/master/hmm_class/site_data.csv'\n",
    ")\n",
    "\n",
    "for line in response.content.split('\\n'):\n",
    "    \n",
    "    if not line:\n",
    "        continue\n",
    "        \n",
    "    state, result = line.rstrip().split(',')\n",
    "    transitions[(state, result)] = transitions.get((state, result), 0.) + 1\n",
    "    row_sums[state] = row_sums.get(state, 0.) + 1\n",
    "    \n",
    "print('Transitions: {}\\n'.format(len(transitions.keys())))"
   ]
  },
  {
   "cell_type": "code",
   "execution_count": 19,
   "metadata": {
    "collapsed": false
   },
   "outputs": [],
   "source": [
    "# Normalize the data in the transitions, so the max val of any\n",
    "# transition state -> result is 1, and lowest is 0\n",
    "for k, v in transitions.iteritems():\n",
    "    state, end = k\n",
    "    transitions[k] = v / row_sums[state]\n"
   ]
  },
  {
   "cell_type": "code",
   "execution_count": 23,
   "metadata": {
    "collapsed": false
   },
   "outputs": [
    {
     "name": "stdout",
     "output_type": "stream",
     "text": [
      "Initial state distribution:\n",
      "4 0.1024323916\n",
      "6 0.098000705041\n",
      "9 0.103842473687\n",
      "0 0.10298635242\n",
      "2 0.0950798207181\n",
      "5 0.0977992647429\n",
      "7 0.0997129475752\n",
      "1 0.103489953165\n",
      "8 0.101525910258\n",
      "3 0.0951301807927\n",
      "\n",
      "Bounce rates:\n",
      "Bounce rate for page ID 8: 0.125295508274\n",
      "Bounce rate for page ID 3: 0.127433849226\n",
      "Bounce rate for page ID 2: 0.12649551346\n",
      "Bounce rate for page ID 7: 0.123716503882\n",
      "Bounce rate for page ID 9: 0.131762321044\n",
      "Bounce rate for page ID 6: 0.120815318098\n",
      "Bounce rate for page ID 0: 0.12796735905\n",
      "Bounce rate for page ID 4: 0.125575606721\n",
      "Bounce rate for page ID 1: 0.125939617991\n",
      "Bounce rate for page ID 5: 0.123695596844\n"
     ]
    }
   ],
   "source": [
    "# Initial state distribution\n",
    "# Which pages were most popular all probs sum to one\n",
    "print('Initial state distribution:')\n",
    "for k, v in transitions.iteritems():\n",
    "    state, result = k\n",
    "    if state == '-1':\n",
    "        print(result, v)\n",
    "        \n",
    "        \n",
    "# which page has the highest bounce rate?\n",
    "print('\\nBounce rates:')\n",
    "for k, v in transitions.iteritems():\n",
    "    s, e = k\n",
    "    if e == 'B':  # Bounced.\n",
    "        print('Bounce rate for page ID {}: {}'.format(s, v))"
   ]
  },
  {
   "cell_type": "code",
   "execution_count": null,
   "metadata": {
    "collapsed": true
   },
   "outputs": [],
   "source": []
  }
 ],
 "metadata": {
  "kernelspec": {
   "display_name": "Anaconda Python 2.7",
   "language": "python",
   "name": "python2"
  },
  "language_info": {
   "codemirror_mode": {
    "name": "ipython",
    "version": 2
   },
   "file_extension": ".py",
   "mimetype": "text/x-python",
   "name": "python",
   "nbconvert_exporter": "python",
   "pygments_lexer": "ipython2",
   "version": "2.7.11"
  }
 },
 "nbformat": 4,
 "nbformat_minor": 0
}
